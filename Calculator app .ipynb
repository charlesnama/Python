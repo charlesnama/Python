{
 "cells": [
  {
   "cell_type": "code",
   "execution_count": 4,
   "metadata": {},
   "outputs": [
    {
     "name": "stdout",
     "output_type": "stream",
     "text": [
      "Hello and Welcome to the calculator\n",
      "Please enter the first number: 50\n",
      "Please enter the second number: 50\n",
      "100\n"
     ]
    }
   ],
   "source": [
    "#Build a v1 calculator that adds \n",
    "#Refactor to add in other factors \n",
    "\n",
    "print(\"Hello and Welcome to the calculator\")\n",
    "\n",
    "#First number \n",
    "x= int(input(\"Please enter the first number: \"))\n",
    "\n",
    "#Second number \n",
    "y= int(input(\"Please enter the second number: \"))\n",
    "\n",
    "#Add the numbers \n",
    "result = x+y\n",
    "\n",
    "#Output the numbers\n",
    "print(result)"
   ]
  },
  {
   "cell_type": "code",
   "execution_count": null,
   "metadata": {},
   "outputs": [
    {
     "name": "stdout",
     "output_type": "stream",
     "text": [
      "What would you like to do today?\n",
      "1. Add\n",
      "2. Subtract\n",
      "3. Multiply\n",
      "4.Divide\n",
      "Enter input number 1/2/3/4h\n",
      "You did not enter a valid input\n",
      "Enter input number 1/2/3/4s\n",
      "You did not enter a valid input\n"
     ]
    }
   ],
   "source": [
    "#methods that return calculati on \n",
    "def add(x,y):\n",
    "    return x+y\n",
    "def subtract(x,y):\n",
    "    return x-y\n",
    "def multiply(x,y):\n",
    "    return x*y\n",
    "def divide(x,y):\n",
    "    return x/y\n",
    "\n",
    "#make a choice, call the method and return the output \n",
    "print(\"What would you like to do today?\")\n",
    "print(\"1. Add\")\n",
    "print(\"2. Subtract\")\n",
    "print(\"3. Multiply\")\n",
    "print(\"4.Divide\")\n",
    "\n",
    "#menu system to select add, sub,mult,div \n",
    "while True: \n",
    "    choice=input(\"Enter input number 1/2/3/4\")\n",
    "    \n",
    "    if choice in (\"1\",\"2\",\"3\",\"4\"):\n",
    "        num1=float(input(\"Enter first number \"))\n",
    "        num2 = float(input(\"Enter second number \"))\n",
    "        if choice ==\"1\":\n",
    "            print(add(num1,num2))\n",
    "        elif choice ==\"2\":\n",
    "            print(subtract(num1,num2))\n",
    "        elif choice==\"3\":\n",
    "            print(multiply(num1,num2))\n",
    "        elif choice==\"4\":\n",
    "            print(divide(num1,num2))\n",
    "        break\n",
    "    else:\n",
    "        print(\"You did not enter a valid input\")\n",
    "    "
   ]
  },
  {
   "cell_type": "code",
   "execution_count": null,
   "metadata": {},
   "outputs": [],
   "source": []
  }
 ],
 "metadata": {
  "kernelspec": {
   "display_name": "Python 3",
   "language": "python",
   "name": "python3"
  },
  "language_info": {
   "codemirror_mode": {
    "name": "ipython",
    "version": 3
   },
   "file_extension": ".py",
   "mimetype": "text/x-python",
   "name": "python",
   "nbconvert_exporter": "python",
   "pygments_lexer": "ipython3",
   "version": "3.7.6"
  }
 },
 "nbformat": 4,
 "nbformat_minor": 4
}
