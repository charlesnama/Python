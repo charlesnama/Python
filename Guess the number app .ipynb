{
 "cells": [
  {
   "cell_type": "code",
   "execution_count": 1,
   "metadata": {},
   "outputs": [],
   "source": [
    "'''\n",
    "if the guess is too high \n",
    "if the guess is too low \n",
    "if guessed it right \n",
    "'''\n",
    "\n",
    "# App #2 Guess the number \n",
    "\n",
    "#import\n",
    "\n",
    "import random \n",
    "\n",
    "\n",
    "#inform the user of what to do \n",
    "print(\"-----------\")\n",
    "print(\"Guess the number \")\n",
    "print(\"--------\")\n",
    "print()\n",
    "\n",
    "\n",
    "therandomnumber = random.randint(0,100)\n",
    "\n",
    "#take input of the user \n",
    "name = input(\"What is your name?\")\n",
    "\n",
    "#check input to see if they matched it successfully \n",
    "while guess!= therandomnumber:\n",
    "    guess_text = input(\"Guess a number\")\n",
    "    guess = int(guess_text)\n",
    "    \n",
    "    if guess < therandomnumber:\n",
    "        print(\"Guess was too low\")\n",
    "        elif guess > therandomnumber:\n",
    "            print(\"Guess was too high\")\n",
    "        else:\n",
    "            print(\"You got it right\")\n",
    "            \n",
    "print(\"Game over\")\n",
    "\n",
    "#display text "
   ]
  },
  {
   "cell_type": "code",
   "execution_count": null,
   "metadata": {},
   "outputs": [],
   "source": []
  }
 ],
 "metadata": {
  "kernelspec": {
   "display_name": "Python 3",
   "language": "python",
   "name": "python3"
  },
  "language_info": {
   "codemirror_mode": {
    "name": "ipython",
    "version": 3
   },
   "file_extension": ".py",
   "mimetype": "text/x-python",
   "name": "python",
   "nbconvert_exporter": "python",
   "pygments_lexer": "ipython3",
   "version": "3.7.6"
  }
 },
 "nbformat": 4,
 "nbformat_minor": 4
}
