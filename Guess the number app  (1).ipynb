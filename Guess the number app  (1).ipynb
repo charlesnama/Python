{
 "cells": [
  {
   "cell_type": "code",
   "execution_count": 9,
   "metadata": {},
   "outputs": [
    {
     "name": "stdout",
     "output_type": "stream",
     "text": [
      "-----------\n",
      "Guess the number \n",
      "--------\n",
      "\n",
      "What is your name?The church \n",
      "Guess a number 56\n",
      "I'm sorry The church  your guess was 56 and it was too high. You have guessed 1 times\n",
      "Guess a number 50\n",
      "I'm sorry The church  your guess was 50 and it was too high. You have guessed 2 times\n",
      "Guess a number 44\n",
      "You got it right in 3 guesses !!!\n",
      "Game over.\n"
     ]
    }
   ],
   "source": [
    "'''\n",
    "if the guess is too high \n",
    "if the guess is too low \n",
    "if guessed it right \n",
    "'''\n",
    "\n",
    "# App #2 Guess the number \n",
    "\n",
    "#import\n",
    "\n",
    "import random \n",
    "\n",
    "\n",
    "#inform the user of what to do \n",
    "print(\"-----------\")\n",
    "print(\"Guess the number \")\n",
    "print(\"--------\")\n",
    "print()\n",
    "\n",
    "\n",
    "therandomnumber = random.randint(0,100)\n",
    "\n",
    "#take input of the user \n",
    "name = input(\"What is your name?\")\n",
    "guess = -1 \n",
    "numberofguesses= 0 \n",
    "#check input to see if they matched it successfully \n",
    "while guess!= therandomnumber:\n",
    "    guess_text = input(\"Guess a number \")\n",
    "    guess = int(guess_text)\n",
    "    numberofguesses = numberofguesses + 1 \n",
    "    if guess < therandomnumber:\n",
    "        print(\" I'm sorry {} guess was {} and it was too low. You have guessed {} times\".format(name,guess_text, numberofguesses))\n",
    "    elif guess > therandomnumber:\n",
    "        print(\"I'm sorry {} your guess was {} and it was too high. You have guessed {} times\".format(name,guess_text, numberofguesses))\n",
    "    else:\n",
    "        print(\"You got it right in {} guesses !!!\".format(numberofguesses))\n",
    "            \n",
    "print(\"Game over.\")\n",
    "\n",
    "#display text "
   ]
  },
  {
   "cell_type": "code",
   "execution_count": null,
   "metadata": {},
   "outputs": [],
   "source": []
  },
  {
   "cell_type": "code",
   "execution_count": null,
   "metadata": {},
   "outputs": [],
   "source": []
  }
 ],
 "metadata": {
  "kernelspec": {
   "display_name": "Python 3",
   "language": "python",
   "name": "python3"
  },
  "language_info": {
   "codemirror_mode": {
    "name": "ipython",
    "version": 3
   },
   "file_extension": ".py",
   "mimetype": "text/x-python",
   "name": "python",
   "nbconvert_exporter": "python",
   "pygments_lexer": "ipython3",
   "version": "3.7.6"
  }
 },
 "nbformat": 4,
 "nbformat_minor": 4
}
